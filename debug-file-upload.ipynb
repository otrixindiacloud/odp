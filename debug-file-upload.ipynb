{
 "cells": [
  {
   "cell_type": "markdown",
   "id": "3d226986",
   "metadata": {},
   "source": [
    "# Debugging File Upload Issue\n",
    "This notebook aims to debug and fix the issue where uploaded files are not being saved in the `uploads` folder."
   ]
  },
  {
   "cell_type": "code",
   "execution_count": null,
   "id": "85abb647",
   "metadata": {},
   "outputs": [],
   "source": [
    "# Setup Environment\n",
    "import os\n",
    "import requests\n",
    "API_URL = 'http://127.0.0.1:8000/upload-file'\n",
    "UPLOAD_FOLDER = '/workspaces/codespaces-nextjs/uploads'\n",
    "assert os.path.exists(UPLOAD_FOLDER), 'Uploads folder does not exist!'"
   ]
  },
  {
   "cell_type": "markdown",
   "id": "e1330d46",
   "metadata": {},
   "source": [
    "## Inspect Backend File Upload Endpoint\n",
    "Review the backend code for the `/upload-file` endpoint to ensure it correctly handles file uploads and saves them to the `uploads` folder."
   ]
  },
  {
   "cell_type": "markdown",
   "id": "25ea851a",
   "metadata": {},
   "source": [
    "## Verify File Path Configuration\n",
    "Check the backend configuration for the uploads folder path and permissions to ensure files can be saved there."
   ]
  },
  {
   "cell_type": "code",
   "execution_count": null,
   "id": "05ff3ba4",
   "metadata": {},
   "outputs": [],
   "source": [
    "# Test File Upload with Mock Data\n",
    "file_path = '/workspaces/codespaces-nextjs/sample.txt'\n",
    "with open(file_path, 'w') as f:\n",
    "    f.write('This is a test file.')\n",
    "\n",
    "with open(file_path, 'rb') as f:\n",
    "    response = requests.post(API_URL, files={'file': f})\n",
    "print(response.json())\n",
    "assert response.status_code == 200, 'File upload failed!'"
   ]
  },
  {
   "cell_type": "markdown",
   "id": "ef3242c2",
   "metadata": {},
   "source": [
    "## Log Debug Information\n",
    "Add logging statements in the backend code to capture details about the file upload process, including file path and errors."
   ]
  }
 ],
 "metadata": {
  "language_info": {
   "name": "python"
  }
 },
 "nbformat": 4,
 "nbformat_minor": 5
}
